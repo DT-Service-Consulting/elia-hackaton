{
  "cells": [
    {
      "cell_type": "code",
      "execution_count": 1,
      "metadata": {
        "id": "El0_lG75u5xW"
      },
      "outputs": [
        {
          "name": "stderr",
          "output_type": "stream",
          "text": [
            "/Users/melihtaki/Library/Python/3.9/lib/python/site-packages/urllib3/__init__.py:35: NotOpenSSLWarning: urllib3 v2 only supports OpenSSL 1.1.1+, currently the 'ssl' module is compiled with 'LibreSSL 2.8.3'. See: https://github.com/urllib3/urllib3/issues/3020\n",
            "  warnings.warn(\n"
          ]
        }
      ],
      "source": [
        "import requests\n",
        "from requests.auth import HTTPBasicAuth\n",
        "import pandas as pd\n",
        "from pandas import json_normalize"
      ]
    },
    {
      "cell_type": "code",
      "execution_count": 8,
      "metadata": {},
      "outputs": [],
      "source": [
        "def getData(path):\n",
        "    url = \"https://api-nprd.traxes.io/hackathon\"\n",
        "    api_key = \"a47c28cc-9401-450f-b052-db23dccb26c5\"\n",
        "    headers = {\n",
        "            \"x-api-key\": api_key  # Include the API key in the header\n",
        "        }\n",
        "    response = requests.get(url+path, headers=headers)\n",
        "    \n",
        "    ## Check response\n",
        "    if response.status_code == 200:\n",
        "        return response.json()\n",
        "    else:\n",
        "        print(f\"Error: {response.status_code} - {response.text}\")"
      ]
    },
    {
      "cell_type": "markdown",
      "metadata": {},
      "source": [
        "# Equipment Data"
      ]
    },
    {
      "cell_type": "code",
      "execution_count": 4,
      "metadata": {},
      "outputs": [
        {
          "name": "stdout",
          "output_type": "stream",
          "text": [
            "(17, 16)\n"
          ]
        },
        {
          "data": {
            "text/html": [
              "<div>\n",
              "<style scoped>\n",
              "    .dataframe tbody tr th:only-of-type {\n",
              "        vertical-align: middle;\n",
              "    }\n",
              "\n",
              "    .dataframe tbody tr th {\n",
              "        vertical-align: top;\n",
              "    }\n",
              "\n",
              "    .dataframe thead th {\n",
              "        text-align: right;\n",
              "    }\n",
              "</style>\n",
              "<table border=\"1\" class=\"dataframe\">\n",
              "  <thead>\n",
              "    <tr style=\"text-align: right;\">\n",
              "      <th></th>\n",
              "      <th>equipmentId</th>\n",
              "      <th>nominalLoad</th>\n",
              "      <th>locationId</th>\n",
              "      <th>coolingType</th>\n",
              "      <th>manufactureYear</th>\n",
              "      <th>commissioningDate</th>\n",
              "      <th>enclosure</th>\n",
              "      <th>heatRunTest_noLoadLosses</th>\n",
              "      <th>heatRunTest_copperLosses</th>\n",
              "      <th>heatRunTest_ambiantTemperature</th>\n",
              "      <th>heatRunTest_deltaTopOil</th>\n",
              "      <th>heatRunTest_deltaHotspot</th>\n",
              "      <th>heatRunTest_x</th>\n",
              "      <th>heatRunTest_y</th>\n",
              "      <th>heatRunTest_h</th>\n",
              "      <th>heatRunTest_gradient</th>\n",
              "    </tr>\n",
              "  </thead>\n",
              "  <tbody>\n",
              "    <tr>\n",
              "      <th>0</th>\n",
              "      <td>50033827</td>\n",
              "      <td>40.0</td>\n",
              "      <td>26</td>\n",
              "      <td>ONAF1</td>\n",
              "      <td>2008</td>\n",
              "      <td>2010-03-17T00:00:00</td>\n",
              "      <td>1 wall</td>\n",
              "      <td>16.37</td>\n",
              "      <td>186.51</td>\n",
              "      <td>25.4</td>\n",
              "      <td>54.1</td>\n",
              "      <td>67.4</td>\n",
              "      <td>0.73</td>\n",
              "      <td>1.48</td>\n",
              "      <td>1.13</td>\n",
              "      <td>11.8</td>\n",
              "    </tr>\n",
              "    <tr>\n",
              "      <th>1</th>\n",
              "      <td>50282127</td>\n",
              "      <td>40.0</td>\n",
              "      <td>11</td>\n",
              "      <td>ONAF1</td>\n",
              "      <td>2015</td>\n",
              "      <td>2015-08-07T00:00:00</td>\n",
              "      <td>no wall</td>\n",
              "      <td>15.51</td>\n",
              "      <td>149.18</td>\n",
              "      <td>22.7</td>\n",
              "      <td>46.8</td>\n",
              "      <td>62.8</td>\n",
              "      <td>0.72</td>\n",
              "      <td>1.32</td>\n",
              "      <td>1.16</td>\n",
              "      <td>13.8</td>\n",
              "    </tr>\n",
              "  </tbody>\n",
              "</table>\n",
              "</div>"
            ],
            "text/plain": [
              "   equipmentId  nominalLoad  locationId coolingType  manufactureYear  \\\n",
              "0     50033827         40.0          26       ONAF1             2008   \n",
              "1     50282127         40.0          11       ONAF1             2015   \n",
              "\n",
              "     commissioningDate enclosure  heatRunTest_noLoadLosses  \\\n",
              "0  2010-03-17T00:00:00    1 wall                     16.37   \n",
              "1  2015-08-07T00:00:00   no wall                     15.51   \n",
              "\n",
              "   heatRunTest_copperLosses  heatRunTest_ambiantTemperature  \\\n",
              "0                    186.51                            25.4   \n",
              "1                    149.18                            22.7   \n",
              "\n",
              "   heatRunTest_deltaTopOil  heatRunTest_deltaHotspot  heatRunTest_x  \\\n",
              "0                     54.1                      67.4           0.73   \n",
              "1                     46.8                      62.8           0.72   \n",
              "\n",
              "   heatRunTest_y  heatRunTest_h  heatRunTest_gradient  \n",
              "0           1.48           1.13                  11.8  \n",
              "1           1.32           1.16                  13.8  "
            ]
          },
          "execution_count": 4,
          "metadata": {},
          "output_type": "execute_result"
        }
      ],
      "source": [
        "json_data = getData(\"/equipment/GetAllTransformers\")\n",
        "flat_data = json_normalize(json_data, sep='_')  # Flatten the nested JSON\n",
        "\n",
        "\n",
        "# Convert the JSON data to a Pandas DataFrame\n",
        "at_df = pd.DataFrame(flat_data)\n",
        "print(at_df.shape)\n",
        "at_df.head(2)\n"
      ]
    },
    {
      "cell_type": "code",
      "execution_count": 32,
      "metadata": {
        "colab": {
          "base_uri": "https://localhost:8080/"
        },
        "id": "gEmYIYrHtnI3",
        "outputId": "41dc2ad3-572f-40cd-f721-65c05aa45590"
      },
      "outputs": [
        {
          "name": "stdout",
          "output_type": "stream",
          "text": [
            "(1093508, 3)\n"
          ]
        },
        {
          "data": {
            "text/html": [
              "<div>\n",
              "<style scoped>\n",
              "    .dataframe tbody tr th:only-of-type {\n",
              "        vertical-align: middle;\n",
              "    }\n",
              "\n",
              "    .dataframe tbody tr th {\n",
              "        vertical-align: top;\n",
              "    }\n",
              "\n",
              "    .dataframe thead th {\n",
              "        text-align: right;\n",
              "    }\n",
              "</style>\n",
              "<table border=\"1\" class=\"dataframe\">\n",
              "  <thead>\n",
              "    <tr style=\"text-align: right;\">\n",
              "      <th></th>\n",
              "      <th>equipmentId</th>\n",
              "      <th>dateTime</th>\n",
              "      <th>load</th>\n",
              "    </tr>\n",
              "  </thead>\n",
              "  <tbody>\n",
              "    <tr>\n",
              "      <th>0</th>\n",
              "      <td>50033827</td>\n",
              "      <td>2023-04-30T22:00:00</td>\n",
              "      <td>12294.37</td>\n",
              "    </tr>\n",
              "    <tr>\n",
              "      <th>1</th>\n",
              "      <td>50033827</td>\n",
              "      <td>2023-04-30T22:15:00</td>\n",
              "      <td>12115.62</td>\n",
              "    </tr>\n",
              "  </tbody>\n",
              "</table>\n",
              "</div>"
            ],
            "text/plain": [
              "   equipmentId             dateTime      load\n",
              "0     50033827  2023-04-30T22:00:00  12294.37\n",
              "1     50033827  2023-04-30T22:15:00  12115.62"
            ]
          },
          "execution_count": 32,
          "metadata": {},
          "output_type": "execute_result"
        }
      ],
      "source": [
        "equipment_ids = list(at_df.equipmentId)\n",
        "\n",
        "all_load_data = []\n",
        "for equipment in equipment_ids:\n",
        "    json_data = getData(f\"/equipment/GetTransformerLoad?equipmentId={equipment}&fromDate=2023-04-30T22:00:00&toDate=2025-02-28T22:45:00\")\n",
        "    equipment_load_df = pd.DataFrame(json_data)\n",
        "    all_load_data.append(equipment_load_df)\n",
        "\n",
        "load_df = pd.concat(all_load_data)\n",
        "print(load_df.shape)\n",
        "load_df.head(2)"
      ]
    },
    {
      "cell_type": "code",
      "execution_count": 33,
      "metadata": {},
      "outputs": [
        {
          "name": "stdout",
          "output_type": "stream",
          "text": [
            "(997220, 3)\n"
          ]
        },
        {
          "data": {
            "text/html": [
              "<div>\n",
              "<style scoped>\n",
              "    .dataframe tbody tr th:only-of-type {\n",
              "        vertical-align: middle;\n",
              "    }\n",
              "\n",
              "    .dataframe tbody tr th {\n",
              "        vertical-align: top;\n",
              "    }\n",
              "\n",
              "    .dataframe thead th {\n",
              "        text-align: right;\n",
              "    }\n",
              "</style>\n",
              "<table border=\"1\" class=\"dataframe\">\n",
              "  <thead>\n",
              "    <tr style=\"text-align: right;\">\n",
              "      <th></th>\n",
              "      <th>equipmentId</th>\n",
              "      <th>dateTime</th>\n",
              "      <th>hotspotTemperature</th>\n",
              "    </tr>\n",
              "  </thead>\n",
              "  <tbody>\n",
              "    <tr>\n",
              "      <th>0</th>\n",
              "      <td>50033827</td>\n",
              "      <td>2023-04-30T22:00:00</td>\n",
              "      <td>41.02</td>\n",
              "    </tr>\n",
              "    <tr>\n",
              "      <th>1</th>\n",
              "      <td>50033827</td>\n",
              "      <td>2023-04-30T22:15:00</td>\n",
              "      <td>41.38</td>\n",
              "    </tr>\n",
              "  </tbody>\n",
              "</table>\n",
              "</div>"
            ],
            "text/plain": [
              "   equipmentId             dateTime  hotspotTemperature\n",
              "0     50033827  2023-04-30T22:00:00               41.02\n",
              "1     50033827  2023-04-30T22:15:00               41.38"
            ]
          },
          "execution_count": 33,
          "metadata": {},
          "output_type": "execute_result"
        }
      ],
      "source": [
        "equipment_ids = list(at_df.equipmentId)\n",
        "\n",
        "all_temp_data = []\n",
        "for equipment in equipment_ids:\n",
        "    json_data = getData(f\"/equipment/GetTransformerTemperature?equipmentId={equipment}&fromDate=2023-04-30T22:00:00&toDate=2024-12-31T22:45:00\")\n",
        "    equipment_temp_df = pd.DataFrame(json_data)\n",
        "    all_temp_data.append(equipment_temp_df)\n",
        "\n",
        "temp_df = pd.concat(all_temp_data)\n",
        "print(temp_df.shape)\n",
        "temp_df.head(2)"
      ]
    },
    {
      "cell_type": "code",
      "execution_count": 34,
      "metadata": {},
      "outputs": [],
      "source": [
        "transformer_data = pd.merge(load_df, temp_df, on=('equipmentId','dateTime'), how='left')\n",
        "transformer_data.shape\n",
        "transformer_data.to_csv(\"../data/transformer_data.csv\", index=False)"
      ]
    },
    {
      "cell_type": "code",
      "execution_count": 6,
      "metadata": {},
      "outputs": [],
      "source": [
        "at_df.to_csv(\"../data/transformers_info_data.csv\", index=False)"
      ]
    },
    {
      "cell_type": "markdown",
      "metadata": {},
      "source": [
        "# Weather Data"
      ]
    },
    {
      "cell_type": "code",
      "execution_count": 4,
      "metadata": {},
      "outputs": [],
      "source": [
        "at_df = pd.read_csv(\"../data/transformers_info_data.csv\")"
      ]
    },
    {
      "cell_type": "code",
      "execution_count": 14,
      "metadata": {},
      "outputs": [
        {
          "data": {
            "text/plain": [
              "17"
            ]
          },
          "execution_count": 14,
          "metadata": {},
          "output_type": "execute_result"
        }
      ],
      "source": [
        "len(location_ids)"
      ]
    },
    {
      "cell_type": "code",
      "execution_count": 16,
      "metadata": {},
      "outputs": [
        {
          "data": {
            "text/plain": [
              "11"
            ]
          },
          "execution_count": 16,
          "metadata": {},
          "output_type": "execute_result"
        }
      ],
      "source": [
        "location_ids = list(at_df.locationId.unique())\n",
        "len(location_ids)"
      ]
    },
    {
      "cell_type": "code",
      "execution_count": 20,
      "metadata": {},
      "outputs": [
        {
          "name": "stdout",
          "output_type": "stream",
          "text": [
            "(176891, 3)\n"
          ]
        },
        {
          "data": {
            "text/html": [
              "<div>\n",
              "<style scoped>\n",
              "    .dataframe tbody tr th:only-of-type {\n",
              "        vertical-align: middle;\n",
              "    }\n",
              "\n",
              "    .dataframe tbody tr th {\n",
              "        vertical-align: top;\n",
              "    }\n",
              "\n",
              "    .dataframe thead th {\n",
              "        text-align: right;\n",
              "    }\n",
              "</style>\n",
              "<table border=\"1\" class=\"dataframe\">\n",
              "  <thead>\n",
              "    <tr style=\"text-align: right;\">\n",
              "      <th></th>\n",
              "      <th>locationId</th>\n",
              "      <th>dateTime</th>\n",
              "      <th>temperature</th>\n",
              "    </tr>\n",
              "  </thead>\n",
              "  <tbody>\n",
              "    <tr>\n",
              "      <th>0</th>\n",
              "      <td>26</td>\n",
              "      <td>2023-04-30T22:00:00</td>\n",
              "      <td>12.77</td>\n",
              "    </tr>\n",
              "    <tr>\n",
              "      <th>1</th>\n",
              "      <td>26</td>\n",
              "      <td>2023-04-30T23:00:00</td>\n",
              "      <td>12.26</td>\n",
              "    </tr>\n",
              "  </tbody>\n",
              "</table>\n",
              "</div>"
            ],
            "text/plain": [
              "   locationId             dateTime  temperature\n",
              "0          26  2023-04-30T22:00:00        12.77\n",
              "1          26  2023-04-30T23:00:00        12.26"
            ]
          },
          "execution_count": 20,
          "metadata": {},
          "output_type": "execute_result"
        }
      ],
      "source": [
        "location_ids = list(at_df.locationId.unique())\n",
        "\n",
        "all_weather_temp_data = []\n",
        "for locId in location_ids:\n",
        "    json_data = getData(f\"/weather/GetOutsideTemperature?locationId={locId}&fromDate=2023-04-30T22:00:00&toDate=2025-02-28T22:00:00\")\n",
        "    equipment_temp_df = pd.DataFrame(json_data)\n",
        "    all_weather_temp_data.append(equipment_temp_df)\n",
        "\n",
        "weather_temp_df = pd.concat(all_weather_temp_data)\n",
        "print(weather_temp_df.shape)\n",
        "weather_temp_df.head(2)"
      ]
    },
    {
      "cell_type": "code",
      "execution_count": 21,
      "metadata": {},
      "outputs": [
        {
          "name": "stdout",
          "output_type": "stream",
          "text": [
            "(176891, 3)\n"
          ]
        },
        {
          "data": {
            "text/html": [
              "<div>\n",
              "<style scoped>\n",
              "    .dataframe tbody tr th:only-of-type {\n",
              "        vertical-align: middle;\n",
              "    }\n",
              "\n",
              "    .dataframe tbody tr th {\n",
              "        vertical-align: top;\n",
              "    }\n",
              "\n",
              "    .dataframe thead th {\n",
              "        text-align: right;\n",
              "    }\n",
              "</style>\n",
              "<table border=\"1\" class=\"dataframe\">\n",
              "  <thead>\n",
              "    <tr style=\"text-align: right;\">\n",
              "      <th></th>\n",
              "      <th>locationId</th>\n",
              "      <th>dateTime</th>\n",
              "      <th>windSpeed</th>\n",
              "    </tr>\n",
              "  </thead>\n",
              "  <tbody>\n",
              "    <tr>\n",
              "      <th>0</th>\n",
              "      <td>26</td>\n",
              "      <td>2023-04-30T22:00:00</td>\n",
              "      <td>2.24</td>\n",
              "    </tr>\n",
              "    <tr>\n",
              "      <th>1</th>\n",
              "      <td>26</td>\n",
              "      <td>2023-04-30T23:00:00</td>\n",
              "      <td>2.05</td>\n",
              "    </tr>\n",
              "  </tbody>\n",
              "</table>\n",
              "</div>"
            ],
            "text/plain": [
              "   locationId             dateTime  windSpeed\n",
              "0          26  2023-04-30T22:00:00       2.24\n",
              "1          26  2023-04-30T23:00:00       2.05"
            ]
          },
          "execution_count": 21,
          "metadata": {},
          "output_type": "execute_result"
        }
      ],
      "source": [
        "location_ids = list(at_df.locationId.unique())\n",
        "\n",
        "all_weather_temp_data = []\n",
        "for locId in location_ids:\n",
        "    json_data = getData(f\"/weather/GetWind?locationId={locId}&fromDate=2023-04-30T22:00:00&toDate=2025-02-28T22:00:00\")\n",
        "    equipment_temp_df = pd.DataFrame(json_data)\n",
        "    all_weather_temp_data.append(equipment_temp_df)\n",
        "\n",
        "weather_wind_df = pd.concat(all_weather_temp_data)\n",
        "print(weather_wind_df.shape)\n",
        "weather_wind_df.head(2)"
      ]
    },
    {
      "cell_type": "code",
      "execution_count": 22,
      "metadata": {},
      "outputs": [
        {
          "name": "stdout",
          "output_type": "stream",
          "text": [
            "(176891, 3)\n"
          ]
        },
        {
          "data": {
            "text/html": [
              "<div>\n",
              "<style scoped>\n",
              "    .dataframe tbody tr th:only-of-type {\n",
              "        vertical-align: middle;\n",
              "    }\n",
              "\n",
              "    .dataframe tbody tr th {\n",
              "        vertical-align: top;\n",
              "    }\n",
              "\n",
              "    .dataframe thead th {\n",
              "        text-align: right;\n",
              "    }\n",
              "</style>\n",
              "<table border=\"1\" class=\"dataframe\">\n",
              "  <thead>\n",
              "    <tr style=\"text-align: right;\">\n",
              "      <th></th>\n",
              "      <th>locationId</th>\n",
              "      <th>dateTime</th>\n",
              "      <th>relativeHumidityPercentage</th>\n",
              "    </tr>\n",
              "  </thead>\n",
              "  <tbody>\n",
              "    <tr>\n",
              "      <th>0</th>\n",
              "      <td>26</td>\n",
              "      <td>2023-04-30T22:00:00</td>\n",
              "      <td>68.40</td>\n",
              "    </tr>\n",
              "    <tr>\n",
              "      <th>1</th>\n",
              "      <td>26</td>\n",
              "      <td>2023-04-30T23:00:00</td>\n",
              "      <td>70.96</td>\n",
              "    </tr>\n",
              "  </tbody>\n",
              "</table>\n",
              "</div>"
            ],
            "text/plain": [
              "   locationId             dateTime  relativeHumidityPercentage\n",
              "0          26  2023-04-30T22:00:00                       68.40\n",
              "1          26  2023-04-30T23:00:00                       70.96"
            ]
          },
          "execution_count": 22,
          "metadata": {},
          "output_type": "execute_result"
        }
      ],
      "source": [
        "location_ids = list(at_df.locationId.unique())\n",
        "\n",
        "all_weather_temp_data = []\n",
        "for locId in location_ids:\n",
        "    json_data = getData(f\"/weather/GetHumidity?locationId={locId}&fromDate=2023-04-30T22:00:00&toDate=2025-02-28T22:00:00\")\n",
        "    equipment_temp_df = pd.DataFrame(json_data)\n",
        "    all_weather_temp_data.append(equipment_temp_df)\n",
        "\n",
        "weather_humi_df = pd.concat(all_weather_temp_data)\n",
        "print(weather_humi_df.shape)\n",
        "weather_humi_df.head(2)"
      ]
    },
    {
      "cell_type": "code",
      "execution_count": 30,
      "metadata": {},
      "outputs": [
        {
          "name": "stdout",
          "output_type": "stream",
          "text": [
            "(176891, 5)\n"
          ]
        },
        {
          "data": {
            "text/html": [
              "<div>\n",
              "<style scoped>\n",
              "    .dataframe tbody tr th:only-of-type {\n",
              "        vertical-align: middle;\n",
              "    }\n",
              "\n",
              "    .dataframe tbody tr th {\n",
              "        vertical-align: top;\n",
              "    }\n",
              "\n",
              "    .dataframe thead th {\n",
              "        text-align: right;\n",
              "    }\n",
              "</style>\n",
              "<table border=\"1\" class=\"dataframe\">\n",
              "  <thead>\n",
              "    <tr style=\"text-align: right;\">\n",
              "      <th></th>\n",
              "      <th>locationId</th>\n",
              "      <th>dateTime</th>\n",
              "      <th>temperature</th>\n",
              "      <th>windSpeed</th>\n",
              "      <th>relativeHumidityPercentage</th>\n",
              "    </tr>\n",
              "  </thead>\n",
              "  <tbody>\n",
              "    <tr>\n",
              "      <th>0</th>\n",
              "      <td>26</td>\n",
              "      <td>2023-04-30T22:00:00</td>\n",
              "      <td>12.77</td>\n",
              "      <td>2.24</td>\n",
              "      <td>68.40</td>\n",
              "    </tr>\n",
              "    <tr>\n",
              "      <th>1</th>\n",
              "      <td>26</td>\n",
              "      <td>2023-04-30T23:00:00</td>\n",
              "      <td>12.26</td>\n",
              "      <td>2.05</td>\n",
              "      <td>70.96</td>\n",
              "    </tr>\n",
              "    <tr>\n",
              "      <th>2</th>\n",
              "      <td>26</td>\n",
              "      <td>2023-05-01T00:00:00</td>\n",
              "      <td>11.73</td>\n",
              "      <td>1.60</td>\n",
              "      <td>74.35</td>\n",
              "    </tr>\n",
              "    <tr>\n",
              "      <th>3</th>\n",
              "      <td>26</td>\n",
              "      <td>2023-05-01T01:00:00</td>\n",
              "      <td>11.35</td>\n",
              "      <td>1.39</td>\n",
              "      <td>77.63</td>\n",
              "    </tr>\n",
              "    <tr>\n",
              "      <th>4</th>\n",
              "      <td>26</td>\n",
              "      <td>2023-05-01T02:00:00</td>\n",
              "      <td>10.80</td>\n",
              "      <td>1.13</td>\n",
              "      <td>80.86</td>\n",
              "    </tr>\n",
              "  </tbody>\n",
              "</table>\n",
              "</div>"
            ],
            "text/plain": [
              "   locationId             dateTime  temperature  windSpeed  \\\n",
              "0          26  2023-04-30T22:00:00        12.77       2.24   \n",
              "1          26  2023-04-30T23:00:00        12.26       2.05   \n",
              "2          26  2023-05-01T00:00:00        11.73       1.60   \n",
              "3          26  2023-05-01T01:00:00        11.35       1.39   \n",
              "4          26  2023-05-01T02:00:00        10.80       1.13   \n",
              "\n",
              "   relativeHumidityPercentage  \n",
              "0                       68.40  \n",
              "1                       70.96  \n",
              "2                       74.35  \n",
              "3                       77.63  \n",
              "4                       80.86  "
            ]
          },
          "execution_count": 30,
          "metadata": {},
          "output_type": "execute_result"
        }
      ],
      "source": [
        "# Merge all weather data (temperature, wind speed, humidity) on locationId and dateTime\n",
        "weather_df = pd.merge(weather_temp_df, weather_wind_df, on=['locationId', 'dateTime'], how='inner')\n",
        "weather_df = pd.merge(weather_df, weather_humi_df, on=['locationId', 'dateTime'], how='inner')\n",
        "\n",
        "# Verify the merged dataframe\n",
        "print(weather_df.shape)\n",
        "weather_df.head()\n"
      ]
    },
    {
      "cell_type": "code",
      "execution_count": 31,
      "metadata": {},
      "outputs": [
        {
          "name": "stdout",
          "output_type": "stream",
          "text": [
            "        locationId             dateTime  temperature  windSpeed  \\\n",
            "112567           2  2023-04-30T22:00:00        13.92       2.43   \n",
            "112568           2  2023-04-30T23:00:00        13.66       2.29   \n",
            "112569           2  2023-05-01T00:00:00        12.92       1.69   \n",
            "112570           2  2023-05-01T01:00:00        12.51       1.14   \n",
            "112571           2  2023-05-01T02:00:00        11.80       1.01   \n",
            "\n",
            "        relativeHumidityPercentage  \n",
            "112567                       62.84  \n",
            "112568                       62.86  \n",
            "112569                       66.46  \n",
            "112570                       68.63  \n",
            "112571                       73.98  \n"
          ]
        }
      ],
      "source": [
        "# Afficher les données météo pour locationId = 2\n",
        "print(weather_df[weather_df['locationId'] == 2].head())\n"
      ]
    },
    {
      "cell_type": "code",
      "execution_count": 27,
      "metadata": {},
      "outputs": [
        {
          "name": "stdout",
          "output_type": "stream",
          "text": [
            "(707531, 5)\n"
          ]
        },
        {
          "name": "stderr",
          "output_type": "stream",
          "text": [
            "/var/folders/n9/q8bvx5ln4m10k1kwfc2w0zd40000gn/T/ipykernel_11378/3737991561.py:22: FutureWarning: 'T' is deprecated and will be removed in a future version, please use 'min' instead.\n",
            "  loc_df = loc_df.resample('15T').interpolate(method='linear')\n",
            "/var/folders/n9/q8bvx5ln4m10k1kwfc2w0zd40000gn/T/ipykernel_11378/3737991561.py:22: FutureWarning: 'T' is deprecated and will be removed in a future version, please use 'min' instead.\n",
            "  loc_df = loc_df.resample('15T').interpolate(method='linear')\n",
            "/var/folders/n9/q8bvx5ln4m10k1kwfc2w0zd40000gn/T/ipykernel_11378/3737991561.py:22: FutureWarning: 'T' is deprecated and will be removed in a future version, please use 'min' instead.\n",
            "  loc_df = loc_df.resample('15T').interpolate(method='linear')\n",
            "/var/folders/n9/q8bvx5ln4m10k1kwfc2w0zd40000gn/T/ipykernel_11378/3737991561.py:22: FutureWarning: 'T' is deprecated and will be removed in a future version, please use 'min' instead.\n",
            "  loc_df = loc_df.resample('15T').interpolate(method='linear')\n",
            "/var/folders/n9/q8bvx5ln4m10k1kwfc2w0zd40000gn/T/ipykernel_11378/3737991561.py:22: FutureWarning: 'T' is deprecated and will be removed in a future version, please use 'min' instead.\n",
            "  loc_df = loc_df.resample('15T').interpolate(method='linear')\n",
            "/var/folders/n9/q8bvx5ln4m10k1kwfc2w0zd40000gn/T/ipykernel_11378/3737991561.py:22: FutureWarning: 'T' is deprecated and will be removed in a future version, please use 'min' instead.\n",
            "  loc_df = loc_df.resample('15T').interpolate(method='linear')\n",
            "/var/folders/n9/q8bvx5ln4m10k1kwfc2w0zd40000gn/T/ipykernel_11378/3737991561.py:22: FutureWarning: 'T' is deprecated and will be removed in a future version, please use 'min' instead.\n",
            "  loc_df = loc_df.resample('15T').interpolate(method='linear')\n",
            "/var/folders/n9/q8bvx5ln4m10k1kwfc2w0zd40000gn/T/ipykernel_11378/3737991561.py:22: FutureWarning: 'T' is deprecated and will be removed in a future version, please use 'min' instead.\n",
            "  loc_df = loc_df.resample('15T').interpolate(method='linear')\n",
            "/var/folders/n9/q8bvx5ln4m10k1kwfc2w0zd40000gn/T/ipykernel_11378/3737991561.py:22: FutureWarning: 'T' is deprecated and will be removed in a future version, please use 'min' instead.\n",
            "  loc_df = loc_df.resample('15T').interpolate(method='linear')\n",
            "/var/folders/n9/q8bvx5ln4m10k1kwfc2w0zd40000gn/T/ipykernel_11378/3737991561.py:22: FutureWarning: 'T' is deprecated and will be removed in a future version, please use 'min' instead.\n",
            "  loc_df = loc_df.resample('15T').interpolate(method='linear')\n",
            "/var/folders/n9/q8bvx5ln4m10k1kwfc2w0zd40000gn/T/ipykernel_11378/3737991561.py:22: FutureWarning: 'T' is deprecated and will be removed in a future version, please use 'min' instead.\n",
            "  loc_df = loc_df.resample('15T').interpolate(method='linear')\n"
          ]
        },
        {
          "data": {
            "text/html": [
              "<div>\n",
              "<style scoped>\n",
              "    .dataframe tbody tr th:only-of-type {\n",
              "        vertical-align: middle;\n",
              "    }\n",
              "\n",
              "    .dataframe tbody tr th {\n",
              "        vertical-align: top;\n",
              "    }\n",
              "\n",
              "    .dataframe thead th {\n",
              "        text-align: right;\n",
              "    }\n",
              "</style>\n",
              "<table border=\"1\" class=\"dataframe\">\n",
              "  <thead>\n",
              "    <tr style=\"text-align: right;\">\n",
              "      <th></th>\n",
              "      <th>dateTime</th>\n",
              "      <th>locationId</th>\n",
              "      <th>temperature</th>\n",
              "      <th>windSpeed</th>\n",
              "      <th>relativeHumidityPercentage</th>\n",
              "    </tr>\n",
              "  </thead>\n",
              "  <tbody>\n",
              "    <tr>\n",
              "      <th>0</th>\n",
              "      <td>2023-04-30 22:00:00</td>\n",
              "      <td>2</td>\n",
              "      <td>13.920</td>\n",
              "      <td>2.430</td>\n",
              "      <td>62.840</td>\n",
              "    </tr>\n",
              "    <tr>\n",
              "      <th>1</th>\n",
              "      <td>2023-04-30 22:15:00</td>\n",
              "      <td>2</td>\n",
              "      <td>13.855</td>\n",
              "      <td>2.395</td>\n",
              "      <td>62.845</td>\n",
              "    </tr>\n",
              "    <tr>\n",
              "      <th>2</th>\n",
              "      <td>2023-04-30 22:30:00</td>\n",
              "      <td>2</td>\n",
              "      <td>13.790</td>\n",
              "      <td>2.360</td>\n",
              "      <td>62.850</td>\n",
              "    </tr>\n",
              "    <tr>\n",
              "      <th>3</th>\n",
              "      <td>2023-04-30 22:45:00</td>\n",
              "      <td>2</td>\n",
              "      <td>13.725</td>\n",
              "      <td>2.325</td>\n",
              "      <td>62.855</td>\n",
              "    </tr>\n",
              "    <tr>\n",
              "      <th>4</th>\n",
              "      <td>2023-04-30 23:00:00</td>\n",
              "      <td>2</td>\n",
              "      <td>13.660</td>\n",
              "      <td>2.290</td>\n",
              "      <td>62.860</td>\n",
              "    </tr>\n",
              "  </tbody>\n",
              "</table>\n",
              "</div>"
            ],
            "text/plain": [
              "             dateTime  locationId  temperature  windSpeed  \\\n",
              "0 2023-04-30 22:00:00           2       13.920      2.430   \n",
              "1 2023-04-30 22:15:00           2       13.855      2.395   \n",
              "2 2023-04-30 22:30:00           2       13.790      2.360   \n",
              "3 2023-04-30 22:45:00           2       13.725      2.325   \n",
              "4 2023-04-30 23:00:00           2       13.660      2.290   \n",
              "\n",
              "   relativeHumidityPercentage  \n",
              "0                      62.840  \n",
              "1                      62.845  \n",
              "2                      62.850  \n",
              "3                      62.855  \n",
              "4                      62.860  "
            ]
          },
          "execution_count": 27,
          "metadata": {},
          "output_type": "execute_result"
        }
      ],
      "source": [
        "# Resample weather data to 15-minute intervals using linear interpolation\n",
        "weather_df['dateTime'] = pd.to_datetime(weather_df['dateTime'])\n",
        "\n",
        "# Drop any duplicate rows based on dateTime and locationId to ensure unique index\n",
        "weather_df = weather_df.drop_duplicates(subset=['dateTime', 'locationId'])\n",
        "\n",
        "# Set multi-index using both dateTime and locationId\n",
        "weather_df = weather_df.set_index(['dateTime', 'locationId'])\n",
        "\n",
        "# Sort index to ensure proper interpolation \n",
        "weather_df = weather_df.sort_index()\n",
        "\n",
        "# Create new date range with 15 min frequency for each locationId\n",
        "locations = weather_df.index.get_level_values('locationId').unique()\n",
        "resampled_dfs = []\n",
        "\n",
        "for loc in locations:\n",
        "    # Get data for this location\n",
        "    loc_df = weather_df.xs(loc, level='locationId')\n",
        "    \n",
        "    # Resample and interpolate\n",
        "    loc_df = loc_df.resample('15T').interpolate(method='linear')\n",
        "    \n",
        "    # Add location back as index\n",
        "    loc_df['locationId'] = loc\n",
        "    loc_df = loc_df.set_index('locationId', append=True)\n",
        "    \n",
        "    resampled_dfs.append(loc_df)\n",
        "\n",
        "# Combine all resampled dataframes\n",
        "weather_df = pd.concat(resampled_dfs)\n",
        "\n",
        "# Reset index to make dateTime and locationId columns again\n",
        "weather_df = weather_df.reset_index()\n",
        "\n",
        "print(weather_df.shape)\n",
        "weather_df.head()\n"
      ]
    },
    {
      "cell_type": "code",
      "execution_count": 28,
      "metadata": {},
      "outputs": [
        {
          "name": "stdout",
          "output_type": "stream",
          "text": [
            "Les données météo ont été sauvegardées dans 'weather_data.csv'\n"
          ]
        }
      ],
      "source": [
        "# Sauvegarder le DataFrame weather_df au format CSV\n",
        "weather_df.to_csv('weather_data.csv', index=False)\n",
        "print(\"Les données météo ont été sauvegardées dans 'weather_data.csv'\")\n"
      ]
    }
  ],
  "metadata": {
    "colab": {
      "provenance": []
    },
    "kernelspec": {
      "display_name": "Python 3",
      "name": "python3"
    },
    "language_info": {
      "codemirror_mode": {
        "name": "ipython",
        "version": 3
      },
      "file_extension": ".py",
      "mimetype": "text/x-python",
      "name": "python",
      "nbconvert_exporter": "python",
      "pygments_lexer": "ipython3",
      "version": "3.9.6"
    }
  },
  "nbformat": 4,
  "nbformat_minor": 0
}
